{
  "nbformat": 4,
  "nbformat_minor": 0,
  "metadata": {
    "colab": {
      "private_outputs": true,
      "provenance": []
    },
    "kernelspec": {
      "name": "python3",
      "display_name": "Python 3"
    },
    "language_info": {
      "name": "python"
    }
  },
  "cells": [
    {
      "cell_type": "code",
      "execution_count": null,
      "metadata": {
        "id": "H0p_6Sh_f85Z"
      },
      "outputs": [],
      "source": [
        "import numpy as np\n",
        "import pandas as pd"
      ]
    },
    {
      "cell_type": "code",
      "source": [
        "import pandas as pd\n",
        "import zipfile\n",
        "\n",
        "# Open the zip file\n",
        "with zipfile.ZipFile('/content/archive (3).zip') as zf:\n",
        "  # Get a list of files in the zip\n",
        "  file_list = zf.namelist()\n",
        "\n",
        "  # Filter for the desired file (assuming it's 'framingham_subamostrado.xlsx')\n",
        "  excel_file = [file for file in file_list if file.endswith('framingham_subamostrado.xlsx')][0]\n",
        "\n",
        "  # Read the Excel file into a pandas DataFrame\n",
        "  df = pd.read_excel(zf.open(excel_file))\n",
        "\n",
        "# Now you can work with the DataFrame 'df'\n",
        "print(df.head())"
      ],
      "metadata": {
        "id": "y_3nZdaQgYSU"
      },
      "execution_count": null,
      "outputs": []
    },
    {
      "cell_type": "code",
      "source": [
        "df"
      ],
      "metadata": {
        "id": "cJuz4sE0giWP"
      },
      "execution_count": null,
      "outputs": []
    },
    {
      "cell_type": "markdown",
      "source": [
        "# **01.Data Preprocessing**"
      ],
      "metadata": {
        "id": "Xs5wQOcqlnqE"
      }
    },
    {
      "cell_type": "code",
      "source": [
        "df.info()"
      ],
      "metadata": {
        "id": "2d0FORHggoVl"
      },
      "execution_count": null,
      "outputs": []
    },
    {
      "cell_type": "code",
      "source": [
        "df.isnull().sum()"
      ],
      "metadata": {
        "id": "6YCD7YnKhZV4"
      },
      "execution_count": null,
      "outputs": []
    },
    {
      "cell_type": "code",
      "source": [
        "df.fillna(method='ffill',inplace=True)"
      ],
      "metadata": {
        "id": "wBpSEU1MhlC_"
      },
      "execution_count": null,
      "outputs": []
    },
    {
      "cell_type": "code",
      "source": [
        "df.isnull().sum()"
      ],
      "metadata": {
        "id": "dfn5q8Sgh8GG"
      },
      "execution_count": null,
      "outputs": []
    },
    {
      "cell_type": "code",
      "source": [
        "import seaborn as sns\n",
        "sns.boxplot(data=df[['clinica_colest_total', 'clinica_pressao_si', 'clinica_pressao_di']])\n"
      ],
      "metadata": {
        "id": "DYF5cJm3ibkb"
      },
      "execution_count": null,
      "outputs": []
    },
    {
      "cell_type": "markdown",
      "source": [
        "# **02.Exploratory Data Analysis(EDA)**"
      ],
      "metadata": {
        "id": "IqXedbd_l1bP"
      }
    },
    {
      "cell_type": "code",
      "source": [
        "df.describe()"
      ],
      "metadata": {
        "id": "DPQc_MYQigDG"
      },
      "execution_count": null,
      "outputs": []
    },
    {
      "cell_type": "code",
      "source": [
        "import seaborn as sns\n",
        "import matplotlib.pyplot as plt\n",
        "correlation_matrix = df.corr()\n",
        "plt.figure(figsize=(10, 6))\n",
        "sns.heatmap(correlation_matrix, annot=True, cmap='coolwarm')\n"
      ],
      "metadata": {
        "id": "PgEW3n7Ail_F"
      },
      "execution_count": null,
      "outputs": []
    },
    {
      "cell_type": "code",
      "source": [
        "df['demo_idade'].hist(bins=20)  # Age distribution\n"
      ],
      "metadata": {
        "id": "uejRClKRiqpD"
      },
      "execution_count": null,
      "outputs": []
    },
    {
      "cell_type": "code",
      "source": [
        "sns.boxplot(x='risco_doenca', y='clinica_colest_total', data=df)\n"
      ],
      "metadata": {
        "id": "BOsVI6UGivKW"
      },
      "execution_count": null,
      "outputs": []
    },
    {
      "cell_type": "markdown",
      "source": [
        "# **03.Feature Engineering**"
      ],
      "metadata": {
        "id": "KscxKwYSmHJJ"
      }
    },
    {
      "cell_type": "code",
      "source": [
        "df['demo_sexo'] = df['demo_sexo'].map({0: 'Female', 1: 'Male'})\n"
      ],
      "metadata": {
        "id": "txXYea-Gizvy"
      },
      "execution_count": null,
      "outputs": []
    },
    {
      "cell_type": "code",
      "source": [
        "df['demo_sexo']"
      ],
      "metadata": {
        "id": "FHcqvWLui6kZ"
      },
      "execution_count": null,
      "outputs": []
    },
    {
      "cell_type": "code",
      "source": [
        "from scipy.stats import chi2_contingency\n",
        "contingency_table = pd.crosstab(df['demo_sexo'], df['risco_doenca'])\n",
        "chi2, p, dof, expected = chi2_contingency(contingency_table)\n",
        "print(f\"Chi-square test p-value: {p}\")\n"
      ],
      "metadata": {
        "id": "SzjQ45jLi-56"
      },
      "execution_count": null,
      "outputs": []
    },
    {
      "cell_type": "markdown",
      "source": [
        "# **04.Stastical Analysis**"
      ],
      "metadata": {
        "id": "hUthOImbmQTy"
      }
    },
    {
      "cell_type": "code",
      "source": [
        "from scipy.stats import ttest_ind\n",
        "group1 = df[df['risco_doenca'] == 0]['clinica_colest_total']\n",
        "group2 = df[df['risco_doenca'] == 1]['clinica_colest_total']\n",
        "t_stat, p_value = ttest_ind(group1, group2)\n",
        "print(f\"T-test p-value: {p_value}\")\n"
      ],
      "metadata": {
        "id": "YlXghT3UjD-Y"
      },
      "execution_count": null,
      "outputs": []
    },
    {
      "cell_type": "markdown",
      "source": [
        "# **05.Modling: Predicting Disease Risk**"
      ],
      "metadata": {
        "id": "1VaS7TbwmmIX"
      }
    },
    {
      "cell_type": "code",
      "source": [
        "X = df.drop(columns=['risco_doenca'])\n",
        "y = df['risco_doenca']\n"
      ],
      "metadata": {
        "id": "_wQxH_YojJ0q"
      },
      "execution_count": null,
      "outputs": []
    },
    {
      "cell_type": "code",
      "source": [
        "from sklearn.model_selection import train_test_split\n",
        "X_train, X_test, y_train, y_test = train_test_split(X, y, test_size=0.2, random_state=42)\n"
      ],
      "metadata": {
        "id": "MioVpoVJjOzm"
      },
      "execution_count": null,
      "outputs": []
    },
    {
      "cell_type": "code",
      "source": [
        "X_train, X_test, y_train, y_test"
      ],
      "metadata": {
        "id": "_U3pEZ6vjSnU"
      },
      "execution_count": null,
      "outputs": []
    },
    {
      "cell_type": "code",
      "source": [
        "import pandas as pd\n",
        "from sklearn.preprocessing import LabelEncoder\n",
        "\n",
        "\n",
        "encoder = LabelEncoder()\n",
        "\n",
        "\n",
        "X_train['demo_sexo'] = encoder.fit_transform(X_train['demo_sexo'])\n",
        "X_test['demo_sexo'] = encoder.transform(X_test['demo_sexo']) # Use the same encoder on the test set\n",
        "\n",
        "\n",
        "from sklearn.linear_model import LogisticRegression\n",
        "model = LogisticRegression()\n",
        "model.fit(X_train, y_train)\n",
        "y_pred = model.predict(X_test)"
      ],
      "metadata": {
        "id": "TiG4mEkbjbSB"
      },
      "execution_count": null,
      "outputs": []
    },
    {
      "cell_type": "code",
      "source": [
        "from sklearn.ensemble import RandomForestClassifier\n",
        "model = RandomForestClassifier(n_estimators=100)\n",
        "model.fit(X_train, y_train)\n"
      ],
      "metadata": {
        "id": "IlgP2v2cjukv"
      },
      "execution_count": null,
      "outputs": []
    },
    {
      "cell_type": "code",
      "source": [
        "from sklearn.metrics import accuracy_score, confusion_matrix, classification_report\n",
        "print(accuracy_score(y_test, y_pred))\n",
        "print(confusion_matrix(y_test, y_pred))\n",
        "print(classification_report(y_test, y_pred))\n"
      ],
      "metadata": {
        "id": "t-AmceDIj2k6"
      },
      "execution_count": null,
      "outputs": []
    },
    {
      "cell_type": "code",
      "source": [
        "import pandas as pd\n",
        "from sklearn.preprocessing import LabelEncoder\n",
        "from sklearn.model_selection import cross_val_score\n",
        "from sklearn.ensemble import RandomForestClassifier\n",
        "\n",
        "\n",
        "\n",
        "\n",
        "encoder = LabelEncoder()\n",
        "\n",
        "\n",
        "X['demo_sexo'] = encoder.fit_transform(X['demo_sexo'])\n",
        "\n",
        "\n",
        "model = RandomForestClassifier(n_estimators=100)\n",
        "scores = cross_val_score(model, X, y, cv=5)\n",
        "print(\"Cross-validation scores:\", scores)"
      ],
      "metadata": {
        "id": "m9V5L2zVj9oR"
      },
      "execution_count": null,
      "outputs": []
    },
    {
      "cell_type": "markdown",
      "source": [
        "# **06.visualization**"
      ],
      "metadata": {
        "id": "AgWiY8iWm5l_"
      }
    },
    {
      "cell_type": "code",
      "source": [
        "\n",
        "from sklearn.preprocessing import LabelEncoder\n",
        "from sklearn.model_selection import cross_val_score\n",
        "from sklearn.ensemble import RandomForestClassifier\n",
        "from sklearn.metrics import roc_curve, auc\n",
        "import matplotlib.pyplot as plt # Make sure to import pyplot\n",
        "\n",
        "\n",
        "\n",
        "\n",
        "encoder = LabelEncoder()\n",
        "\n",
        "\n",
        "X['demo_sexo'] = encoder.fit_transform(X['demo_sexo'])\n",
        "\n",
        "\n",
        "model = RandomForestClassifier(n_estimators=100)\n",
        "scores = cross_val_score(model, X, y, cv=5)\n",
        "print(\"Cross-validation scores:\", scores)\n",
        "\n",
        "\n",
        "model.fit(X, y)\n",
        "\n",
        "\n",
        "fpr, tpr, thresholds = roc_curve(y_test, model.predict_proba(X_test)[:,1])\n",
        "roc_auc = auc(fpr, tpr)\n",
        "plt.plot(fpr, tpr, label=f'ROC curve (area = {roc_auc:.2f})')\n",
        "plt.plot([0, 1], [0, 1], linestyle='--')\n",
        "plt.xlabel('False Positive Rate')\n",
        "plt.ylabel('True Positive Rate')\n",
        "plt.title('Receiver Operating Characteristic (ROC) Curve')\n",
        "plt.legend(loc='lower right')\n",
        "plt.show()"
      ],
      "metadata": {
        "id": "ej3zOdtIkZ_c"
      },
      "execution_count": null,
      "outputs": []
    },
    {
      "cell_type": "code",
      "source": [
        "importances = model.feature_importances_\n",
        "feature_names = X.columns\n",
        "feature_importance_df = pd.DataFrame({'Feature': feature_names, 'Importance': importances})\n",
        "feature_importance_df.sort_values(by='Importance', ascending=False, inplace=True)\n",
        "sns.barplot(x='Importance', y='Feature', data=feature_importance_df)\n"
      ],
      "metadata": {
        "id": "vJTAhMk_kotI"
      },
      "execution_count": null,
      "outputs": []
    },
    {
      "cell_type": "code",
      "source": [],
      "metadata": {
        "id": "kFf8C0KPkuxB"
      },
      "execution_count": null,
      "outputs": []
    }
  ]
}